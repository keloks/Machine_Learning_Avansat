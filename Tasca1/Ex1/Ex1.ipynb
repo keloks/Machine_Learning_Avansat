{
 "cells": [
  {
   "cell_type": "markdown",
   "id": "c005661d",
   "metadata": {},
   "source": [
    "### - Exercici 1\n",
    "\n",
    "Agafa el conjunt de dades que vulguis i realitza un pipeline i un gridsearch aplicant l'algorisme de Random Forest."
   ]
  },
  {
   "cell_type": "code",
   "execution_count": 1,
   "id": "6bdd2648",
   "metadata": {},
   "outputs": [],
   "source": [
    "import numpy as np\n",
    "import pandas as pd\n",
    "import matplotlib.pyplot as plt\n",
    "import seaborn as sns\n",
    "from sklearn.ensemble import RandomForestClassifier\n",
    "from sklearn.model_selection import train_test_split\n",
    "from sklearn.preprocessing import MinMaxScaler, RobustScaler, StandardScaler, label_binarize"
   ]
  },
  {
   "cell_type": "code",
   "execution_count": 2,
   "id": "553f5104",
   "metadata": {},
   "outputs": [
    {
     "data": {
      "text/html": [
       "<div>\n",
       "<style scoped>\n",
       "    .dataframe tbody tr th:only-of-type {\n",
       "        vertical-align: middle;\n",
       "    }\n",
       "\n",
       "    .dataframe tbody tr th {\n",
       "        vertical-align: top;\n",
       "    }\n",
       "\n",
       "    .dataframe thead th {\n",
       "        text-align: right;\n",
       "    }\n",
       "</style>\n",
       "<table border=\"1\" class=\"dataframe\">\n",
       "  <thead>\n",
       "    <tr style=\"text-align: right;\">\n",
       "      <th></th>\n",
       "      <th>index</th>\n",
       "      <th>name</th>\n",
       "      <th>date_of_birth</th>\n",
       "      <th>height</th>\n",
       "      <th>weight</th>\n",
       "      <th>spike</th>\n",
       "      <th>block</th>\n",
       "      <th>position_number</th>\n",
       "      <th>country</th>\n",
       "    </tr>\n",
       "  </thead>\n",
       "  <tbody>\n",
       "    <tr>\n",
       "      <th>0</th>\n",
       "      <td>0</td>\n",
       "      <td>Angelina Lazarenko</td>\n",
       "      <td>13/04/1998</td>\n",
       "      <td>193</td>\n",
       "      <td>80</td>\n",
       "      <td>320</td>\n",
       "      <td>305</td>\n",
       "      <td>3</td>\n",
       "      <td>23</td>\n",
       "    </tr>\n",
       "    <tr>\n",
       "      <th>1</th>\n",
       "      <td>1</td>\n",
       "      <td>Svetlana Serbina</td>\n",
       "      <td>15/05/1996</td>\n",
       "      <td>182</td>\n",
       "      <td>71</td>\n",
       "      <td>295</td>\n",
       "      <td>284</td>\n",
       "      <td>1</td>\n",
       "      <td>23</td>\n",
       "    </tr>\n",
       "    <tr>\n",
       "      <th>2</th>\n",
       "      <td>2</td>\n",
       "      <td>Ekaterina Shkurikhina</td>\n",
       "      <td>17/06/1996</td>\n",
       "      <td>190</td>\n",
       "      <td>72</td>\n",
       "      <td>306</td>\n",
       "      <td>296</td>\n",
       "      <td>2</td>\n",
       "      <td>23</td>\n",
       "    </tr>\n",
       "    <tr>\n",
       "      <th>3</th>\n",
       "      <td>3</td>\n",
       "      <td>Kristina Kurnosova</td>\n",
       "      <td>17/06/1997</td>\n",
       "      <td>176</td>\n",
       "      <td>62</td>\n",
       "      <td>288</td>\n",
       "      <td>278</td>\n",
       "      <td>6</td>\n",
       "      <td>23</td>\n",
       "    </tr>\n",
       "    <tr>\n",
       "      <th>4</th>\n",
       "      <td>4</td>\n",
       "      <td>Ekaterina Novikova</td>\n",
       "      <td>07/12/1996</td>\n",
       "      <td>181</td>\n",
       "      <td>70</td>\n",
       "      <td>290</td>\n",
       "      <td>275</td>\n",
       "      <td>1</td>\n",
       "      <td>23</td>\n",
       "    </tr>\n",
       "  </tbody>\n",
       "</table>\n",
       "</div>"
      ],
      "text/plain": [
       "   index                   name date_of_birth  height  weight  spike  block  \\\n",
       "0      0     Angelina Lazarenko    13/04/1998     193      80    320    305   \n",
       "1      1       Svetlana Serbina    15/05/1996     182      71    295    284   \n",
       "2      2  Ekaterina Shkurikhina    17/06/1996     190      72    306    296   \n",
       "3      3     Kristina Kurnosova    17/06/1997     176      62    288    278   \n",
       "4      4     Ekaterina Novikova    07/12/1996     181      70    290    275   \n",
       "\n",
       "   position_number  country  \n",
       "0                3       23  \n",
       "1                1       23  \n",
       "2                2       23  \n",
       "3                6       23  \n",
       "4                1       23  "
      ]
     },
     "execution_count": 2,
     "metadata": {},
     "output_type": "execute_result"
    }
   ],
   "source": [
    "wvb = pd.read_csv('wVb.csv')\n",
    "wvb.head()"
   ]
  },
  {
   "cell_type": "code",
   "execution_count": 3,
   "id": "1f49a31a",
   "metadata": {},
   "outputs": [
    {
     "data": {
      "text/plain": [
       "0"
      ]
     },
     "execution_count": 3,
     "metadata": {},
     "output_type": "execute_result"
    }
   ],
   "source": [
    "#Check for duplicates\n",
    "wvb.duplicated(keep = 'first').sum()"
   ]
  },
  {
   "cell_type": "code",
   "execution_count": 4,
   "id": "c1da72d9",
   "metadata": {},
   "outputs": [
    {
     "data": {
      "text/plain": [
       "index              0\n",
       "name               0\n",
       "date_of_birth      0\n",
       "height             0\n",
       "weight             0\n",
       "spike              0\n",
       "block              0\n",
       "position_number    0\n",
       "country            0\n",
       "dtype: int64"
      ]
     },
     "execution_count": 4,
     "metadata": {},
     "output_type": "execute_result"
    }
   ],
   "source": [
    "#Check for nan values\n",
    "wvb.isna().sum()"
   ]
  },
  {
   "cell_type": "code",
   "execution_count": 5,
   "id": "cdc64879",
   "metadata": {},
   "outputs": [],
   "source": [
    "#After these fast checks, let's drop the columns we are not interested in\n",
    "wvb.drop(['index', 'date_of_birth', 'country', 'name'], axis = 1, inplace = True)"
   ]
  },
  {
   "cell_type": "code",
   "execution_count": 6,
   "id": "9a0a8de6",
   "metadata": {},
   "outputs": [
    {
     "data": {
      "text/html": [
       "<div>\n",
       "<style scoped>\n",
       "    .dataframe tbody tr th:only-of-type {\n",
       "        vertical-align: middle;\n",
       "    }\n",
       "\n",
       "    .dataframe tbody tr th {\n",
       "        vertical-align: top;\n",
       "    }\n",
       "\n",
       "    .dataframe thead th {\n",
       "        text-align: right;\n",
       "    }\n",
       "</style>\n",
       "<table border=\"1\" class=\"dataframe\">\n",
       "  <thead>\n",
       "    <tr style=\"text-align: right;\">\n",
       "      <th></th>\n",
       "      <th>height</th>\n",
       "      <th>weight</th>\n",
       "      <th>spike</th>\n",
       "      <th>block</th>\n",
       "      <th>position_number</th>\n",
       "    </tr>\n",
       "  </thead>\n",
       "  <tbody>\n",
       "    <tr>\n",
       "      <th>0</th>\n",
       "      <td>193</td>\n",
       "      <td>80</td>\n",
       "      <td>320</td>\n",
       "      <td>305</td>\n",
       "      <td>3</td>\n",
       "    </tr>\n",
       "    <tr>\n",
       "      <th>1</th>\n",
       "      <td>182</td>\n",
       "      <td>71</td>\n",
       "      <td>295</td>\n",
       "      <td>284</td>\n",
       "      <td>1</td>\n",
       "    </tr>\n",
       "    <tr>\n",
       "      <th>2</th>\n",
       "      <td>190</td>\n",
       "      <td>72</td>\n",
       "      <td>306</td>\n",
       "      <td>296</td>\n",
       "      <td>2</td>\n",
       "    </tr>\n",
       "    <tr>\n",
       "      <th>3</th>\n",
       "      <td>176</td>\n",
       "      <td>62</td>\n",
       "      <td>288</td>\n",
       "      <td>278</td>\n",
       "      <td>6</td>\n",
       "    </tr>\n",
       "    <tr>\n",
       "      <th>4</th>\n",
       "      <td>181</td>\n",
       "      <td>70</td>\n",
       "      <td>290</td>\n",
       "      <td>275</td>\n",
       "      <td>1</td>\n",
       "    </tr>\n",
       "  </tbody>\n",
       "</table>\n",
       "</div>"
      ],
      "text/plain": [
       "   height  weight  spike  block  position_number\n",
       "0     193      80    320    305                3\n",
       "1     182      71    295    284                1\n",
       "2     190      72    306    296                2\n",
       "3     176      62    288    278                6\n",
       "4     181      70    290    275                1"
      ]
     },
     "execution_count": 6,
     "metadata": {},
     "output_type": "execute_result"
    }
   ],
   "source": [
    "wvb.head()"
   ]
  },
  {
   "cell_type": "code",
   "execution_count": 7,
   "id": "4db483f5",
   "metadata": {},
   "outputs": [
    {
     "data": {
      "text/html": [
       "<div>\n",
       "<style scoped>\n",
       "    .dataframe tbody tr th:only-of-type {\n",
       "        vertical-align: middle;\n",
       "    }\n",
       "\n",
       "    .dataframe tbody tr th {\n",
       "        vertical-align: top;\n",
       "    }\n",
       "\n",
       "    .dataframe thead th {\n",
       "        text-align: right;\n",
       "    }\n",
       "</style>\n",
       "<table border=\"1\" class=\"dataframe\">\n",
       "  <thead>\n",
       "    <tr style=\"text-align: right;\">\n",
       "      <th></th>\n",
       "      <th>height</th>\n",
       "      <th>weight</th>\n",
       "      <th>spike</th>\n",
       "      <th>block</th>\n",
       "      <th>position_number</th>\n",
       "      <th>position</th>\n",
       "    </tr>\n",
       "  </thead>\n",
       "  <tbody>\n",
       "    <tr>\n",
       "      <th>0</th>\n",
       "      <td>193</td>\n",
       "      <td>80</td>\n",
       "      <td>320</td>\n",
       "      <td>305</td>\n",
       "      <td>3</td>\n",
       "      <td>middle</td>\n",
       "    </tr>\n",
       "    <tr>\n",
       "      <th>1</th>\n",
       "      <td>182</td>\n",
       "      <td>71</td>\n",
       "      <td>295</td>\n",
       "      <td>284</td>\n",
       "      <td>1</td>\n",
       "      <td>setter</td>\n",
       "    </tr>\n",
       "    <tr>\n",
       "      <th>2</th>\n",
       "      <td>190</td>\n",
       "      <td>72</td>\n",
       "      <td>306</td>\n",
       "      <td>296</td>\n",
       "      <td>2</td>\n",
       "      <td>wing</td>\n",
       "    </tr>\n",
       "    <tr>\n",
       "      <th>3</th>\n",
       "      <td>176</td>\n",
       "      <td>62</td>\n",
       "      <td>288</td>\n",
       "      <td>278</td>\n",
       "      <td>6</td>\n",
       "      <td>libero</td>\n",
       "    </tr>\n",
       "    <tr>\n",
       "      <th>4</th>\n",
       "      <td>181</td>\n",
       "      <td>70</td>\n",
       "      <td>290</td>\n",
       "      <td>275</td>\n",
       "      <td>1</td>\n",
       "      <td>setter</td>\n",
       "    </tr>\n",
       "  </tbody>\n",
       "</table>\n",
       "</div>"
      ],
      "text/plain": [
       "   height  weight  spike  block  position_number position\n",
       "0     193      80    320    305                3   middle\n",
       "1     182      71    295    284                1   setter\n",
       "2     190      72    306    296                2     wing\n",
       "3     176      62    288    278                6   libero\n",
       "4     181      70    290    275                1   setter"
      ]
     },
     "execution_count": 7,
     "metadata": {},
     "output_type": "execute_result"
    }
   ],
   "source": [
    "#To better visualize the positions, let's turn them into labels, rather than numbers\n",
    "conditions = [wvb['position_number'] == 1,\n",
    "             wvb['position_number'] == 2,\n",
    "             wvb['position_number'] == 3,\n",
    "             wvb['position_number'] == 4,\n",
    "             wvb['position_number'] == 6]\n",
    "\n",
    "newValues = ['setter', 'wing', 'middle', 'opposite', 'libero']\n",
    "\n",
    "wvb['position'] = np.select(conditions, newValues)\n",
    "wvb.head()"
   ]
  },
  {
   "cell_type": "code",
   "execution_count": 8,
   "id": "6757ad45",
   "metadata": {},
   "outputs": [
    {
     "data": {
      "text/html": [
       "<div>\n",
       "<style scoped>\n",
       "    .dataframe tbody tr th:only-of-type {\n",
       "        vertical-align: middle;\n",
       "    }\n",
       "\n",
       "    .dataframe tbody tr th {\n",
       "        vertical-align: top;\n",
       "    }\n",
       "\n",
       "    .dataframe thead th {\n",
       "        text-align: right;\n",
       "    }\n",
       "</style>\n",
       "<table border=\"1\" class=\"dataframe\">\n",
       "  <thead>\n",
       "    <tr style=\"text-align: right;\">\n",
       "      <th></th>\n",
       "      <th>height</th>\n",
       "      <th>weight</th>\n",
       "      <th>spike</th>\n",
       "      <th>block</th>\n",
       "      <th>position</th>\n",
       "    </tr>\n",
       "  </thead>\n",
       "  <tbody>\n",
       "    <tr>\n",
       "      <th>0</th>\n",
       "      <td>193</td>\n",
       "      <td>80</td>\n",
       "      <td>320</td>\n",
       "      <td>305</td>\n",
       "      <td>middle</td>\n",
       "    </tr>\n",
       "    <tr>\n",
       "      <th>1</th>\n",
       "      <td>182</td>\n",
       "      <td>71</td>\n",
       "      <td>295</td>\n",
       "      <td>284</td>\n",
       "      <td>setter</td>\n",
       "    </tr>\n",
       "    <tr>\n",
       "      <th>2</th>\n",
       "      <td>190</td>\n",
       "      <td>72</td>\n",
       "      <td>306</td>\n",
       "      <td>296</td>\n",
       "      <td>wing</td>\n",
       "    </tr>\n",
       "    <tr>\n",
       "      <th>3</th>\n",
       "      <td>176</td>\n",
       "      <td>62</td>\n",
       "      <td>288</td>\n",
       "      <td>278</td>\n",
       "      <td>libero</td>\n",
       "    </tr>\n",
       "    <tr>\n",
       "      <th>4</th>\n",
       "      <td>181</td>\n",
       "      <td>70</td>\n",
       "      <td>290</td>\n",
       "      <td>275</td>\n",
       "      <td>setter</td>\n",
       "    </tr>\n",
       "  </tbody>\n",
       "</table>\n",
       "</div>"
      ],
      "text/plain": [
       "   height  weight  spike  block position\n",
       "0     193      80    320    305   middle\n",
       "1     182      71    295    284   setter\n",
       "2     190      72    306    296     wing\n",
       "3     176      62    288    278   libero\n",
       "4     181      70    290    275   setter"
      ]
     },
     "execution_count": 8,
     "metadata": {},
     "output_type": "execute_result"
    }
   ],
   "source": [
    "#Finally drop the position_number column\n",
    "wvb.drop('position_number', axis = 1, inplace = True)\n",
    "wvb.head()"
   ]
  },
  {
   "cell_type": "code",
   "execution_count": 9,
   "id": "6ea06631",
   "metadata": {},
   "outputs": [
    {
     "data": {
      "text/html": [
       "<div>\n",
       "<style scoped>\n",
       "    .dataframe tbody tr th:only-of-type {\n",
       "        vertical-align: middle;\n",
       "    }\n",
       "\n",
       "    .dataframe tbody tr th {\n",
       "        vertical-align: top;\n",
       "    }\n",
       "\n",
       "    .dataframe thead th {\n",
       "        text-align: right;\n",
       "    }\n",
       "</style>\n",
       "<table border=\"1\" class=\"dataframe\">\n",
       "  <thead>\n",
       "    <tr style=\"text-align: right;\">\n",
       "      <th></th>\n",
       "      <th>height</th>\n",
       "      <th>weight</th>\n",
       "      <th>spike</th>\n",
       "      <th>block</th>\n",
       "    </tr>\n",
       "  </thead>\n",
       "  <tbody>\n",
       "    <tr>\n",
       "      <th>count</th>\n",
       "      <td>432.000000</td>\n",
       "      <td>432.000000</td>\n",
       "      <td>432.000000</td>\n",
       "      <td>432.000000</td>\n",
       "    </tr>\n",
       "    <tr>\n",
       "      <th>mean</th>\n",
       "      <td>180.979167</td>\n",
       "      <td>68.743056</td>\n",
       "      <td>286.784722</td>\n",
       "      <td>275.506944</td>\n",
       "    </tr>\n",
       "    <tr>\n",
       "      <th>std</th>\n",
       "      <td>8.214753</td>\n",
       "      <td>7.344439</td>\n",
       "      <td>35.015972</td>\n",
       "      <td>33.246181</td>\n",
       "    </tr>\n",
       "    <tr>\n",
       "      <th>min</th>\n",
       "      <td>153.000000</td>\n",
       "      <td>52.000000</td>\n",
       "      <td>0.000000</td>\n",
       "      <td>0.000000</td>\n",
       "    </tr>\n",
       "    <tr>\n",
       "      <th>25%</th>\n",
       "      <td>175.750000</td>\n",
       "      <td>63.750000</td>\n",
       "      <td>285.000000</td>\n",
       "      <td>273.500000</td>\n",
       "    </tr>\n",
       "    <tr>\n",
       "      <th>50%</th>\n",
       "      <td>182.000000</td>\n",
       "      <td>69.500000</td>\n",
       "      <td>293.500000</td>\n",
       "      <td>283.000000</td>\n",
       "    </tr>\n",
       "    <tr>\n",
       "      <th>75%</th>\n",
       "      <td>187.000000</td>\n",
       "      <td>73.000000</td>\n",
       "      <td>304.000000</td>\n",
       "      <td>292.000000</td>\n",
       "    </tr>\n",
       "    <tr>\n",
       "      <th>max</th>\n",
       "      <td>199.000000</td>\n",
       "      <td>87.000000</td>\n",
       "      <td>336.000000</td>\n",
       "      <td>310.000000</td>\n",
       "    </tr>\n",
       "  </tbody>\n",
       "</table>\n",
       "</div>"
      ],
      "text/plain": [
       "           height      weight       spike       block\n",
       "count  432.000000  432.000000  432.000000  432.000000\n",
       "mean   180.979167   68.743056  286.784722  275.506944\n",
       "std      8.214753    7.344439   35.015972   33.246181\n",
       "min    153.000000   52.000000    0.000000    0.000000\n",
       "25%    175.750000   63.750000  285.000000  273.500000\n",
       "50%    182.000000   69.500000  293.500000  283.000000\n",
       "75%    187.000000   73.000000  304.000000  292.000000\n",
       "max    199.000000   87.000000  336.000000  310.000000"
      ]
     },
     "execution_count": 9,
     "metadata": {},
     "output_type": "execute_result"
    }
   ],
   "source": [
    "wvb.describe()"
   ]
  },
  {
   "cell_type": "markdown",
   "id": "d921471a",
   "metadata": {},
   "source": [
    "We can see that our minimum value for the spike and block is 0, which is an extreme outlier given a mean of 280 approximately. Let's further dig in and see if it is libero related, since liberos do not spike nor block."
   ]
  },
  {
   "cell_type": "code",
   "execution_count": 10,
   "id": "70258b73",
   "metadata": {},
   "outputs": [
    {
     "name": "stdout",
     "output_type": "stream",
     "text": [
      "Class middle\n",
      "           height      weight       spike       block\n",
      "count  108.000000  108.000000  108.000000  108.000000\n",
      "mean   186.888889   71.694444  297.000000  285.333333\n",
      "std      5.229916    7.347780   11.766418   14.079215\n",
      "min    176.000000   60.000000  270.000000  246.000000\n",
      "25%    184.000000   66.750000  290.000000  279.750000\n",
      "50%    186.000000   70.000000  295.500000  285.000000\n",
      "75%    190.500000   76.500000  305.000000  297.000000\n",
      "max    199.000000   87.000000  320.000000  305.000000\n",
      "Class setter\n",
      "           height     weight       spike       block\n",
      "count   75.000000  75.000000   75.000000   75.000000\n",
      "mean   176.880000  67.840000  285.840000  274.440000\n",
      "std      6.859517   5.122921   21.653313   20.749627\n",
      "min    153.000000  55.000000  200.000000  210.000000\n",
      "25%    174.000000  65.000000  280.000000  272.000000\n",
      "50%    180.000000  69.000000  287.000000  280.000000\n",
      "75%    182.000000  71.000000  297.000000  284.000000\n",
      "max    184.000000  75.000000  320.000000  310.000000\n",
      "Class wing\n",
      "           height      weight       spike       block\n",
      "count  144.000000  144.000000  144.000000  144.000000\n",
      "mean   179.916667   68.250000  286.041667  274.062500\n",
      "std      7.831709    6.278501   32.486441   30.336163\n",
      "min    160.000000   52.000000  178.000000  178.000000\n",
      "25%    176.500000   63.750000  285.000000  269.750000\n",
      "50%    181.000000   69.000000  296.000000  284.500000\n",
      "75%    186.000000   72.000000  304.250000  293.500000\n",
      "max    195.000000   80.000000  322.000000  308.000000\n",
      "Class libero\n",
      "           height     weight       spike       block\n",
      "count   42.000000  42.000000   42.000000   42.000000\n",
      "mean   171.214286  61.357143  270.000000  263.571429\n",
      "std      5.492948   6.987171   24.800669   23.962514\n",
      "min    162.000000  52.000000  198.000000  190.000000\n",
      "25%    167.000000  56.000000  260.000000  255.000000\n",
      "50%    170.500000  60.500000  273.000000  269.500000\n",
      "75%    176.000000  64.000000  285.000000  278.000000\n",
      "max    180.000000  78.000000  302.000000  290.000000\n",
      "Class opposite\n",
      "           height     weight       spike       block\n",
      "count   63.000000  63.000000   63.000000   63.000000\n",
      "mean   184.666667  70.809524  283.285714  271.190476\n",
      "std      6.490688   8.321866   67.056892   63.525930\n",
      "min    172.000000  54.000000    0.000000    0.000000\n",
      "25%    182.000000  65.000000  291.000000  280.000000\n",
      "50%    186.000000  71.000000  300.000000  288.000000\n",
      "75%    190.000000  77.000000  308.000000  295.000000\n",
      "max    193.000000  86.000000  336.000000  302.000000\n"
     ]
    }
   ],
   "source": [
    "for c in wvb['position'].unique():\n",
    "    \n",
    "    print(f'Class {c}')\n",
    "    print(wvb[wvb['position'] == c].describe())   "
   ]
  },
  {
   "cell_type": "markdown",
   "id": "5bce1c0e",
   "metadata": {},
   "source": [
    "We find out that it is not a class related issue, but rather missing data. Also, in classes other than libero (which do not spike or block), we find minimum block and spike values below the net heigth (224cm). These values are probably wrong, but we cannot prove it, so we are going to leave them be and hope for the best.  "
   ]
  },
  {
   "cell_type": "code",
   "execution_count": 11,
   "id": "81797fe5",
   "metadata": {},
   "outputs": [
    {
     "data": {
      "text/html": [
       "<div>\n",
       "<style scoped>\n",
       "    .dataframe tbody tr th:only-of-type {\n",
       "        vertical-align: middle;\n",
       "    }\n",
       "\n",
       "    .dataframe tbody tr th {\n",
       "        vertical-align: top;\n",
       "    }\n",
       "\n",
       "    .dataframe thead th {\n",
       "        text-align: right;\n",
       "    }\n",
       "</style>\n",
       "<table border=\"1\" class=\"dataframe\">\n",
       "  <thead>\n",
       "    <tr style=\"text-align: right;\">\n",
       "      <th></th>\n",
       "      <th>height</th>\n",
       "      <th>weight</th>\n",
       "      <th>spike</th>\n",
       "      <th>block</th>\n",
       "    </tr>\n",
       "  </thead>\n",
       "  <tbody>\n",
       "    <tr>\n",
       "      <th>count</th>\n",
       "      <td>429.000000</td>\n",
       "      <td>429.000000</td>\n",
       "      <td>429.00000</td>\n",
       "      <td>429.000000</td>\n",
       "    </tr>\n",
       "    <tr>\n",
       "      <th>mean</th>\n",
       "      <td>181.000000</td>\n",
       "      <td>68.727273</td>\n",
       "      <td>288.79021</td>\n",
       "      <td>277.433566</td>\n",
       "    </tr>\n",
       "    <tr>\n",
       "      <th>std</th>\n",
       "      <td>8.239692</td>\n",
       "      <td>7.367695</td>\n",
       "      <td>25.57722</td>\n",
       "      <td>24.027017</td>\n",
       "    </tr>\n",
       "    <tr>\n",
       "      <th>min</th>\n",
       "      <td>153.000000</td>\n",
       "      <td>52.000000</td>\n",
       "      <td>178.00000</td>\n",
       "      <td>178.000000</td>\n",
       "    </tr>\n",
       "    <tr>\n",
       "      <th>25%</th>\n",
       "      <td>175.000000</td>\n",
       "      <td>63.000000</td>\n",
       "      <td>285.00000</td>\n",
       "      <td>274.000000</td>\n",
       "    </tr>\n",
       "    <tr>\n",
       "      <th>50%</th>\n",
       "      <td>182.000000</td>\n",
       "      <td>69.000000</td>\n",
       "      <td>294.00000</td>\n",
       "      <td>283.000000</td>\n",
       "    </tr>\n",
       "    <tr>\n",
       "      <th>75%</th>\n",
       "      <td>187.000000</td>\n",
       "      <td>73.000000</td>\n",
       "      <td>304.00000</td>\n",
       "      <td>292.000000</td>\n",
       "    </tr>\n",
       "    <tr>\n",
       "      <th>max</th>\n",
       "      <td>199.000000</td>\n",
       "      <td>87.000000</td>\n",
       "      <td>336.00000</td>\n",
       "      <td>310.000000</td>\n",
       "    </tr>\n",
       "  </tbody>\n",
       "</table>\n",
       "</div>"
      ],
      "text/plain": [
       "           height      weight      spike       block\n",
       "count  429.000000  429.000000  429.00000  429.000000\n",
       "mean   181.000000   68.727273  288.79021  277.433566\n",
       "std      8.239692    7.367695   25.57722   24.027017\n",
       "min    153.000000   52.000000  178.00000  178.000000\n",
       "25%    175.000000   63.000000  285.00000  274.000000\n",
       "50%    182.000000   69.000000  294.00000  283.000000\n",
       "75%    187.000000   73.000000  304.00000  292.000000\n",
       "max    199.000000   87.000000  336.00000  310.000000"
      ]
     },
     "execution_count": 11,
     "metadata": {},
     "output_type": "execute_result"
    }
   ],
   "source": [
    "#get the index of the problematic entries\n",
    "indexToDrop = wvb.index[(wvb['spike'] == 0) | (wvb['block'] == 0)].tolist()\n",
    "wvb.drop(index = indexToDrop, inplace = True)\n",
    "wvb.describe()"
   ]
  },
  {
   "cell_type": "markdown",
   "id": "68596864",
   "metadata": {},
   "source": [
    "Next, dividing into train and test sets"
   ]
  },
  {
   "cell_type": "code",
   "execution_count": 12,
   "id": "50b13b2c",
   "metadata": {},
   "outputs": [],
   "source": [
    "# A stratified split is in order\n",
    "xTrain, xTest, yTrain, yTest = train_test_split(wvb.iloc[:,:-1], wvb.iloc[:,-1],\n",
    "                                                train_size = 0.7,shuffle = True,\n",
    "                                                stratify = wvb.iloc[:,-1],\n",
    "                                                random_state = 1)\n",
    "#Also, reset the indexes for comodity\n",
    "xTrain.reset_index(drop = True, inplace = True)\n",
    "xTest.reset_index(drop = True, inplace = True)\n",
    "yTrain.reset_index(drop = True, inplace = True)\n",
    "yTest.reset_index(drop = True, inplace = True)"
   ]
  },
  {
   "cell_type": "code",
   "execution_count": 13,
   "id": "8675c12f",
   "metadata": {},
   "outputs": [
    {
     "data": {
      "text/html": [
       "<div>\n",
       "<style scoped>\n",
       "    .dataframe tbody tr th:only-of-type {\n",
       "        vertical-align: middle;\n",
       "    }\n",
       "\n",
       "    .dataframe tbody tr th {\n",
       "        vertical-align: top;\n",
       "    }\n",
       "\n",
       "    .dataframe thead th {\n",
       "        text-align: right;\n",
       "    }\n",
       "</style>\n",
       "<table border=\"1\" class=\"dataframe\">\n",
       "  <thead>\n",
       "    <tr style=\"text-align: right;\">\n",
       "      <th></th>\n",
       "      <th>height</th>\n",
       "      <th>weight</th>\n",
       "      <th>spike</th>\n",
       "      <th>block</th>\n",
       "    </tr>\n",
       "  </thead>\n",
       "  <tbody>\n",
       "    <tr>\n",
       "      <th>count</th>\n",
       "      <td>300.000000</td>\n",
       "      <td>300.000000</td>\n",
       "      <td>300.000000</td>\n",
       "      <td>300.000000</td>\n",
       "    </tr>\n",
       "    <tr>\n",
       "      <th>mean</th>\n",
       "      <td>181.316667</td>\n",
       "      <td>68.823333</td>\n",
       "      <td>289.650000</td>\n",
       "      <td>278.223333</td>\n",
       "    </tr>\n",
       "    <tr>\n",
       "      <th>std</th>\n",
       "      <td>8.171841</td>\n",
       "      <td>7.131267</td>\n",
       "      <td>24.131208</td>\n",
       "      <td>23.246824</td>\n",
       "    </tr>\n",
       "    <tr>\n",
       "      <th>min</th>\n",
       "      <td>153.000000</td>\n",
       "      <td>52.000000</td>\n",
       "      <td>188.000000</td>\n",
       "      <td>178.000000</td>\n",
       "    </tr>\n",
       "    <tr>\n",
       "      <th>25%</th>\n",
       "      <td>176.000000</td>\n",
       "      <td>64.000000</td>\n",
       "      <td>285.000000</td>\n",
       "      <td>275.000000</td>\n",
       "    </tr>\n",
       "    <tr>\n",
       "      <th>50%</th>\n",
       "      <td>183.000000</td>\n",
       "      <td>69.500000</td>\n",
       "      <td>295.000000</td>\n",
       "      <td>284.000000</td>\n",
       "    </tr>\n",
       "    <tr>\n",
       "      <th>75%</th>\n",
       "      <td>187.000000</td>\n",
       "      <td>73.000000</td>\n",
       "      <td>304.000000</td>\n",
       "      <td>293.000000</td>\n",
       "    </tr>\n",
       "    <tr>\n",
       "      <th>max</th>\n",
       "      <td>199.000000</td>\n",
       "      <td>87.000000</td>\n",
       "      <td>336.000000</td>\n",
       "      <td>310.000000</td>\n",
       "    </tr>\n",
       "  </tbody>\n",
       "</table>\n",
       "</div>"
      ],
      "text/plain": [
       "           height      weight       spike       block\n",
       "count  300.000000  300.000000  300.000000  300.000000\n",
       "mean   181.316667   68.823333  289.650000  278.223333\n",
       "std      8.171841    7.131267   24.131208   23.246824\n",
       "min    153.000000   52.000000  188.000000  178.000000\n",
       "25%    176.000000   64.000000  285.000000  275.000000\n",
       "50%    183.000000   69.500000  295.000000  284.000000\n",
       "75%    187.000000   73.000000  304.000000  293.000000\n",
       "max    199.000000   87.000000  336.000000  310.000000"
      ]
     },
     "execution_count": 13,
     "metadata": {},
     "output_type": "execute_result"
    }
   ],
   "source": [
    "# Stats for the training and test subsets to see if we missed something\n",
    "xTrain.describe()"
   ]
  },
  {
   "cell_type": "code",
   "execution_count": 14,
   "id": "abc506c9",
   "metadata": {},
   "outputs": [
    {
     "data": {
      "text/html": [
       "<div>\n",
       "<style scoped>\n",
       "    .dataframe tbody tr th:only-of-type {\n",
       "        vertical-align: middle;\n",
       "    }\n",
       "\n",
       "    .dataframe tbody tr th {\n",
       "        vertical-align: top;\n",
       "    }\n",
       "\n",
       "    .dataframe thead th {\n",
       "        text-align: right;\n",
       "    }\n",
       "</style>\n",
       "<table border=\"1\" class=\"dataframe\">\n",
       "  <thead>\n",
       "    <tr style=\"text-align: right;\">\n",
       "      <th></th>\n",
       "      <th>height</th>\n",
       "      <th>weight</th>\n",
       "      <th>spike</th>\n",
       "      <th>block</th>\n",
       "    </tr>\n",
       "  </thead>\n",
       "  <tbody>\n",
       "    <tr>\n",
       "      <th>count</th>\n",
       "      <td>129.000000</td>\n",
       "      <td>129.000000</td>\n",
       "      <td>129.000000</td>\n",
       "      <td>129.000000</td>\n",
       "    </tr>\n",
       "    <tr>\n",
       "      <th>mean</th>\n",
       "      <td>180.263566</td>\n",
       "      <td>68.503876</td>\n",
       "      <td>286.790698</td>\n",
       "      <td>275.596899</td>\n",
       "    </tr>\n",
       "    <tr>\n",
       "      <th>std</th>\n",
       "      <td>8.381079</td>\n",
       "      <td>7.914705</td>\n",
       "      <td>28.660915</td>\n",
       "      <td>25.750764</td>\n",
       "    </tr>\n",
       "    <tr>\n",
       "      <th>min</th>\n",
       "      <td>160.000000</td>\n",
       "      <td>52.000000</td>\n",
       "      <td>178.000000</td>\n",
       "      <td>178.000000</td>\n",
       "    </tr>\n",
       "    <tr>\n",
       "      <th>25%</th>\n",
       "      <td>175.000000</td>\n",
       "      <td>63.000000</td>\n",
       "      <td>285.000000</td>\n",
       "      <td>272.000000</td>\n",
       "    </tr>\n",
       "    <tr>\n",
       "      <th>50%</th>\n",
       "      <td>181.000000</td>\n",
       "      <td>69.000000</td>\n",
       "      <td>292.000000</td>\n",
       "      <td>282.000000</td>\n",
       "    </tr>\n",
       "    <tr>\n",
       "      <th>75%</th>\n",
       "      <td>186.000000</td>\n",
       "      <td>73.000000</td>\n",
       "      <td>304.000000</td>\n",
       "      <td>289.000000</td>\n",
       "    </tr>\n",
       "    <tr>\n",
       "      <th>max</th>\n",
       "      <td>199.000000</td>\n",
       "      <td>87.000000</td>\n",
       "      <td>336.000000</td>\n",
       "      <td>308.000000</td>\n",
       "    </tr>\n",
       "  </tbody>\n",
       "</table>\n",
       "</div>"
      ],
      "text/plain": [
       "           height      weight       spike       block\n",
       "count  129.000000  129.000000  129.000000  129.000000\n",
       "mean   180.263566   68.503876  286.790698  275.596899\n",
       "std      8.381079    7.914705   28.660915   25.750764\n",
       "min    160.000000   52.000000  178.000000  178.000000\n",
       "25%    175.000000   63.000000  285.000000  272.000000\n",
       "50%    181.000000   69.000000  292.000000  282.000000\n",
       "75%    186.000000   73.000000  304.000000  289.000000\n",
       "max    199.000000   87.000000  336.000000  308.000000"
      ]
     },
     "execution_count": 14,
     "metadata": {},
     "output_type": "execute_result"
    }
   ],
   "source": [
    "xTest.describe()"
   ]
  },
  {
   "cell_type": "markdown",
   "id": "4fa9528f",
   "metadata": {},
   "source": [
    "We have our dataset finally clean and we are ready to start the actual preprocessing. First, check for class balance in the train subset."
   ]
  },
  {
   "cell_type": "code",
   "execution_count": 15,
   "id": "db88fa8a",
   "metadata": {},
   "outputs": [],
   "source": [
    "def checkClassBalance(targetSeries):\n",
    "    \n",
    "    groups = targetSeries.unique()\n",
    "    groupPops = {}\n",
    "    \n",
    "    for group in groups:\n",
    "        groupPops[group] = targetSeries[targetSeries == group].shape[0] * 100 / targetSeries.shape[0]\n",
    "    print(groupPops)"
   ]
  },
  {
   "cell_type": "code",
   "execution_count": 16,
   "id": "56c0f32e",
   "metadata": {},
   "outputs": [
    {
     "name": "stdout",
     "output_type": "stream",
     "text": [
      "{'wing': 33.666666666666664, 'libero': 9.666666666666666, 'opposite': 14.0, 'middle': 25.333333333333332, 'setter': 17.333333333333332}\n"
     ]
    }
   ],
   "source": [
    "checkClassBalance(yTrain)"
   ]
  },
  {
   "cell_type": "markdown",
   "id": "997c5345",
   "metadata": {},
   "source": [
    "Our classes (positions), are not balanced, and therefore it is advisable to perform some kind of oversampling technique. This procedure will be included in the pipeline, but just to show the results"
   ]
  },
  {
   "cell_type": "code",
   "execution_count": 17,
   "id": "a08c29c6",
   "metadata": {},
   "outputs": [],
   "source": [
    "from imblearn.over_sampling import SMOTE\n",
    "\n",
    "smoter = SMOTE(k_neighbors = 10, sampling_strategy = 'not majority')\n",
    "xResampled, yResampled = smoter.fit_resample(xTrain, yTrain)"
   ]
  },
  {
   "cell_type": "code",
   "execution_count": 18,
   "id": "bd2dffb4",
   "metadata": {},
   "outputs": [
    {
     "name": "stdout",
     "output_type": "stream",
     "text": [
      "{'wing': 20.0, 'libero': 20.0, 'opposite': 20.0, 'middle': 20.0, 'setter': 20.0}\n",
      "total sample size 505\n"
     ]
    }
   ],
   "source": [
    "#Our classes are now balanced\n",
    "checkClassBalance(yResampled)\n",
    "print('total sample size', xResampled.shape[0])"
   ]
  },
  {
   "cell_type": "markdown",
   "id": "978d3b34",
   "metadata": {},
   "source": [
    "Now we have cleaned, and splitted our data, let's start building our model using a pipeline. Since the first step will be to scale the data, before that, we should check if we have a significant number of outliers for each class."
   ]
  },
  {
   "cell_type": "code",
   "execution_count": 19,
   "id": "ce708d05",
   "metadata": {},
   "outputs": [],
   "source": [
    "def outlierInfo(df):\n",
    "    q25 = df.quantile(0.25)\n",
    "    q75 = df.quantile(0.75)\n",
    "    iq = np.abs(q75-q25)\n",
    "    \n",
    "    #number of mild and extreme outliers\n",
    "    kMild = 0\n",
    "    kExtreme = 0\n",
    "    \n",
    "    for label in df.columns:\n",
    "        nMild, nExtreme = outlierDetector(df[label], q25[label], \n",
    "                                                      q75[label], iq[label])\n",
    "        kMild =+ nMild\n",
    "        kExtreme =+ nExtreme\n",
    "    #return in %\n",
    "    return kMild*100/df.shape[0], kExtreme*100/df.shape[0]\n",
    "    \n",
    "def outlierDetector(series, q25, q75, iq):\n",
    "    # >q1-1.5iq or <q3+1.5iq are considered mild outliers\n",
    "    MildOut = series[(series > (q75 + 1.5 * iq)) | (series < (q25 - 1.5*iq))].shape[0]\n",
    "    # >q1-3iq or <q3+3iq are considered extreme outliers\n",
    "    ExtremeOut = series[(series > (q75 + 3 * iq)) | (series < (q25 - 3*iq))].shape[0]\n",
    "    \n",
    "    return MildOut, ExtremeOut    "
   ]
  },
  {
   "cell_type": "code",
   "execution_count": 20,
   "id": "7a2c52d8",
   "metadata": {
    "scrolled": true
   },
   "outputs": [
    {
     "name": "stdout",
     "output_type": "stream",
     "text": [
      "8.67% population of mild outliers\n",
      "4.00% population of extreme outliers\n"
     ]
    }
   ],
   "source": [
    "mildOutliers, extremeOutliers = outlierInfo(xTrain)\n",
    "print(f'{mildOutliers:.2f}% population of mild outliers')\n",
    "print(f'{extremeOutliers:.2f}% population of extreme outliers')"
   ]
  },
  {
   "cell_type": "code",
   "execution_count": 21,
   "id": "b53b800d",
   "metadata": {},
   "outputs": [
    {
     "name": "stdout",
     "output_type": "stream",
     "text": [
      "height    2.163935\n",
      "weight    2.548869\n",
      "spike     1.920749\n",
      "block     1.366925\n",
      "dtype: float64\n",
      "height    3.465151\n",
      "weight    2.359095\n",
      "spike     4.212387\n",
      "block     4.311270\n",
      "dtype: float64\n"
     ]
    }
   ],
   "source": [
    "aux = xTrain.describe()\n",
    "#Also verify these outliers are not extremely far from the mean\n",
    "upperDistances = (aux.iloc[7] - aux.iloc[1]) / aux.iloc[2]\n",
    "lowerDistances = (aux.iloc[1] - aux.iloc[3]) / aux.iloc[2]\n",
    "\n",
    "print(upperDistances)\n",
    "print(lowerDistances)"
   ]
  },
  {
   "cell_type": "markdown",
   "id": "fb9caccc",
   "metadata": {},
   "source": [
    "We find out that 4% of our sample are extreme outliers, and that the most extreme outliers appear in the lower part of spike and block at a 4 std distance from the mean. Since volleyball is a sport where you need the tallest possible middle blocker and the most agile (and therefore not so tall) libero, and we already identified probable missmanaged data, this is expected. Let's use RobustScaler so that our model is robust to outliers. And build a piepline"
   ]
  },
  {
   "cell_type": "code",
   "execution_count": 22,
   "id": "d2e93ca8",
   "metadata": {},
   "outputs": [],
   "source": [
    "from sklearn.pipeline import Pipeline\n",
    "from imblearn.pipeline import Pipeline as imbpipeline\n",
    "from sklearn.model_selection import GridSearchCV, StratifiedKFold"
   ]
  },
  {
   "cell_type": "code",
   "execution_count": 25,
   "id": "8395eff5",
   "metadata": {},
   "outputs": [],
   "source": [
    "#https://towardsdatascience.com/the-right-way-of-using-smote-with-cross-validation-92a8d09d00c7\n",
    "#Let's find if using smote inside a imblearn pipeline yields better results.\n",
    "\n",
    "def model(xTrain, yTrain, properSmote):\n",
    "    \n",
    "    if properSmote == True:\n",
    "        # sklearn pipeline does not support object with fit_resample method\n",
    "        # here we use a imblearn piepline\n",
    "        steps = [('smoter', SMOTE(k_neighbors = 10, sampling_strategy = 'not majority',\n",
    "                                  random_state = 10)),\n",
    "                 ('scaler', RobustScaler()),\n",
    "                 ('RandomForest', RandomForestClassifier(random_state = 1))]\n",
    "        print('inside Pipeline')\n",
    "        pipe = imbpipeline(steps)\n",
    "        print(pipe)\n",
    "        \n",
    "    else:\n",
    "        smoter = SMOTE(k_neighbors = 10, sampling_strategy = 'not majority',\n",
    "                       random_state = 10)\n",
    "        xTrain, yTrain = smoter.fit_resample(xTrain, yTrain)\n",
    "        steps = [('scaler', RobustScaler()),\n",
    "                 ('RandomForest', RandomForestClassifier(random_state = 1))]\n",
    "        print('outside Pipeline')\n",
    "        pipe = Pipeline(steps)\n",
    "        print(pipe)\n",
    "\n",
    "\n",
    "    #Purposely set the forest with many estimators but low max_depth.\n",
    "    #This way we have many weak and underfitted estimators that will vote\n",
    "    #and hopefully be right most of the time\n",
    "    paramDist = {'RandomForest__n_estimators' : list(range(951,1002,4)), \n",
    "                 'RandomForest__max_depth' : list(range(2,6)),\n",
    "                 'RandomForest__criterion' : ['entropy', 'gini']\n",
    "                }\n",
    "    kfold = StratifiedKFold(n_splits = 5, shuffle = True, random_state = 4)\n",
    "    #It seems for multiclass, we need the weighted scores\n",
    "    scores = ['accuracy', 'recall_weighted', 'f1_weighted']\n",
    "    \n",
    "    grid = GridSearchCV(pipe, paramDist, cv = 5, scoring = scores,\n",
    "                        verbose = 1, refit = scores[0]\n",
    "                       )\n",
    "    grid.fit(xResampled, yResampled)\n",
    "    \n",
    "    return grid.best_estimator_"
   ]
  },
  {
   "cell_type": "code",
   "execution_count": 27,
   "id": "b08401e3",
   "metadata": {},
   "outputs": [
    {
     "name": "stdout",
     "output_type": "stream",
     "text": [
      "inside Pipeline\n",
      "Pipeline(steps=[('smoter',\n",
      "                 SMOTE(k_neighbors=10, random_state=10,\n",
      "                       sampling_strategy='not majority')),\n",
      "                ('scaler', RobustScaler()),\n",
      "                ('RandomForest', RandomForestClassifier(random_state=1))])\n",
      "Fitting 5 folds for each of 104 candidates, totalling 520 fits\n",
      "outside Pipeline\n",
      "Pipeline(steps=[('scaler', RobustScaler()),\n",
      "                ('RandomForest', RandomForestClassifier(random_state=1))])\n",
      "Fitting 5 folds for each of 104 candidates, totalling 520 fits\n"
     ]
    }
   ],
   "source": [
    "clfProperSmote = model(xTrain, yTrain, True)\n",
    "clfPoorSmote = model(xTrain, yTrain, False)"
   ]
  },
  {
   "cell_type": "code",
   "execution_count": 28,
   "id": "37608d0f",
   "metadata": {},
   "outputs": [],
   "source": [
    "from sklearn import metrics"
   ]
  },
  {
   "cell_type": "code",
   "execution_count": 29,
   "id": "446bbad5",
   "metadata": {},
   "outputs": [],
   "source": [
    "def printScores(yTest, yPred, estimatorLabel):\n",
    "    print(estimatorLabel)\n",
    "    print('Accuracy:', metrics.accuracy_score(yTest, yPred))\n",
    "    print('f1:', metrics.f1_score(yTest, yPred, average = 'weighted'))\n",
    "    print('recall:', metrics.recall_score(yTest, yPred, average = 'weighted'))\n",
    "    print('precision:', metrics.precision_score(yTest, yPred, average = 'weighted'))\n",
    "    "
   ]
  },
  {
   "cell_type": "code",
   "execution_count": 30,
   "id": "193c77fe",
   "metadata": {},
   "outputs": [
    {
     "name": "stdout",
     "output_type": "stream",
     "text": [
      "Smote inside Pipeline\n",
      "Accuracy: 0.689922480620155\n",
      "f1: 0.6880979150247933\n",
      "recall: 0.689922480620155\n",
      "precision: 0.7945736434108527\n",
      "Smote outside Pipeline\n",
      "Accuracy: 0.689922480620155\n",
      "f1: 0.6880979150247933\n",
      "recall: 0.689922480620155\n",
      "precision: 0.7945736434108527\n"
     ]
    }
   ],
   "source": [
    "yPredProper = clfProperSmote.predict(xTest)\n",
    "printScores(yTest, yPredProper, 'Smote inside Pipeline')\n",
    "\n",
    "yPredPoor = clfPoorSmote.predict(xTest)\n",
    "printScores(yTest, yPredPoor, 'Smote outside Pipeline')"
   ]
  },
  {
   "cell_type": "markdown",
   "id": "a78ecab7",
   "metadata": {},
   "source": [
    "Seems both model yield the same result. Let's make a plot to better visualize the predictions. Since we want to represent only 1 variable (heigth, weigth, spike, block), we will have 8 plots"
   ]
  },
  {
   "cell_type": "code",
   "execution_count": 31,
   "id": "f66511db",
   "metadata": {},
   "outputs": [
    {
     "name": "stdout",
     "output_type": "stream",
     "text": [
      "Index(['height', 'weight', 'spike', 'block'], dtype='object')\n",
      "[0.42632037 0.17972823 0.21261353 0.18133786]\n"
     ]
    }
   ],
   "source": [
    "print(xTrain.columns)\n",
    "print(clfProperSmote[2].feature_importances_)"
   ]
  },
  {
   "cell_type": "markdown",
   "id": "06d127fd",
   "metadata": {},
   "source": [
    "So the two most important features for our estimator were heigth and spike. Let's make a plot with these two variables and visualize the differences."
   ]
  },
  {
   "cell_type": "code",
   "execution_count": 32,
   "id": "550edbe9",
   "metadata": {},
   "outputs": [
    {
     "data": {
      "text/html": [
       "<div>\n",
       "<style scoped>\n",
       "    .dataframe tbody tr th:only-of-type {\n",
       "        vertical-align: middle;\n",
       "    }\n",
       "\n",
       "    .dataframe tbody tr th {\n",
       "        vertical-align: top;\n",
       "    }\n",
       "\n",
       "    .dataframe thead th {\n",
       "        text-align: right;\n",
       "    }\n",
       "</style>\n",
       "<table border=\"1\" class=\"dataframe\">\n",
       "  <thead>\n",
       "    <tr style=\"text-align: right;\">\n",
       "      <th></th>\n",
       "      <th>height</th>\n",
       "      <th>spike</th>\n",
       "      <th>yTest</th>\n",
       "      <th>yPred</th>\n",
       "    </tr>\n",
       "  </thead>\n",
       "  <tbody>\n",
       "    <tr>\n",
       "      <th>0</th>\n",
       "      <td>165</td>\n",
       "      <td>259</td>\n",
       "      <td>libero</td>\n",
       "      <td>libero</td>\n",
       "    </tr>\n",
       "    <tr>\n",
       "      <th>1</th>\n",
       "      <td>180</td>\n",
       "      <td>280</td>\n",
       "      <td>wing</td>\n",
       "      <td>setter</td>\n",
       "    </tr>\n",
       "    <tr>\n",
       "      <th>2</th>\n",
       "      <td>174</td>\n",
       "      <td>264</td>\n",
       "      <td>setter</td>\n",
       "      <td>setter</td>\n",
       "    </tr>\n",
       "    <tr>\n",
       "      <th>3</th>\n",
       "      <td>188</td>\n",
       "      <td>308</td>\n",
       "      <td>wing</td>\n",
       "      <td>opposite</td>\n",
       "    </tr>\n",
       "    <tr>\n",
       "      <th>4</th>\n",
       "      <td>186</td>\n",
       "      <td>279</td>\n",
       "      <td>middle</td>\n",
       "      <td>middle</td>\n",
       "    </tr>\n",
       "    <tr>\n",
       "      <th>...</th>\n",
       "      <td>...</td>\n",
       "      <td>...</td>\n",
       "      <td>...</td>\n",
       "      <td>...</td>\n",
       "    </tr>\n",
       "    <tr>\n",
       "      <th>124</th>\n",
       "      <td>176</td>\n",
       "      <td>290</td>\n",
       "      <td>middle</td>\n",
       "      <td>setter</td>\n",
       "    </tr>\n",
       "    <tr>\n",
       "      <th>125</th>\n",
       "      <td>176</td>\n",
       "      <td>279</td>\n",
       "      <td>libero</td>\n",
       "      <td>libero</td>\n",
       "    </tr>\n",
       "    <tr>\n",
       "      <th>126</th>\n",
       "      <td>175</td>\n",
       "      <td>278</td>\n",
       "      <td>setter</td>\n",
       "      <td>setter</td>\n",
       "    </tr>\n",
       "    <tr>\n",
       "      <th>127</th>\n",
       "      <td>173</td>\n",
       "      <td>275</td>\n",
       "      <td>libero</td>\n",
       "      <td>libero</td>\n",
       "    </tr>\n",
       "    <tr>\n",
       "      <th>128</th>\n",
       "      <td>177</td>\n",
       "      <td>292</td>\n",
       "      <td>setter</td>\n",
       "      <td>setter</td>\n",
       "    </tr>\n",
       "  </tbody>\n",
       "</table>\n",
       "<p>129 rows × 4 columns</p>\n",
       "</div>"
      ],
      "text/plain": [
       "     height  spike   yTest     yPred\n",
       "0       165    259  libero    libero\n",
       "1       180    280    wing    setter\n",
       "2       174    264  setter    setter\n",
       "3       188    308    wing  opposite\n",
       "4       186    279  middle    middle\n",
       "..      ...    ...     ...       ...\n",
       "124     176    290  middle    setter\n",
       "125     176    279  libero    libero\n",
       "126     175    278  setter    setter\n",
       "127     173    275  libero    libero\n",
       "128     177    292  setter    setter\n",
       "\n",
       "[129 rows x 4 columns]"
      ]
     },
     "execution_count": 32,
     "metadata": {},
     "output_type": "execute_result"
    }
   ],
   "source": [
    "results = pd.concat([xTest[['height', 'block']], yTest, \n",
    "                     pd.Series(yPredProper, name = 'yPred')\n",
    "                    ], axis = 1, ignore_index = True)\n",
    "labels = ['height', 'spike', 'yTest', 'yPred'] \n",
    "results.set_axis(labels = labels, axis = 1, inplace = True)\n",
    "\n",
    "results"
   ]
  },
  {
   "cell_type": "code",
   "execution_count": 33,
   "id": "70273cab",
   "metadata": {},
   "outputs": [],
   "source": [
    "def plotClassPoints(results, label, axTrue, axPred):\n",
    "    sns.scatterplot(data = results[results['yTest'] == label],\n",
    "                x = 'height', y = 'spike', ax = axTrue)\n",
    "    \n",
    "    axTrue.set_title(label + ' gorund truth')\n",
    "    axTrue.grid()\n",
    "    \n",
    "    sns.scatterplot(data = results[results['yTest'] == label],\n",
    "                   x = 'height', y = 'spike', ax = axPred, hue = 'yPred')\n",
    "    \n",
    "    axPred.set_title(label + ' predicted')\n",
    "    axPred.grid()"
   ]
  },
  {
   "cell_type": "code",
   "execution_count": 37,
   "id": "9c9cfe6e",
   "metadata": {},
   "outputs": [
    {
     "data": {
      "image/png": "[encoded data removed]",
      "text/plain": [
       "<Figure size 1296x2160 with 10 Axes>"
      ]
     },
     "metadata": {
      "needs_background": "light"
     },
     "output_type": "display_data"
    }
   ],
   "source": [
    "plt.rcParams.update({'font.size': 14})\n",
    "\n",
    "fig, axs = plt.subplots(figsize = (18,30), ncols = 2, nrows = 5)\n",
    "\n",
    "labels = results['yTest'].unique()\n",
    "\n",
    "for count, label in enumerate(labels):\n",
    "    plotClassPoints(results, label, axs[count][0], axs[count][1])\n",
    "    \n",
    "fig.tight_layout()"
   ]
  },
  {
   "cell_type": "markdown",
   "id": "c17ce2f0",
   "metadata": {},
   "source": [
    "All in all, in terms of accuracy, we can see that the liberos, setters and opposites are the easiest classes to predict, while wing players are often mistaken for some other positions. This makes sense up to an extent: Wing players must be versatile, they have to be good at spiking and blocking, but have to be agile to defend too. This versatility is probably reflected in their physical characteristics.  \n",
    "Middle blockers must be the tallest possible, so we would expect to be the easiest to classify. However, this model does a mediocre job at it."
   ]
  }
 ],
 "metadata": {
  "anaconda-cloud": {},
  "kernelspec": {
   "display_name": "Python 3 (ipykernel)",
   "language": "python",
   "name": "python3"
  },
  "language_info": {
   "codemirror_mode": {
    "name": "ipython",
    "version": 3
   },
   "file_extension": ".py",
   "mimetype": "text/x-python",
   "name": "python",
   "nbconvert_exporter": "python",
   "pygments_lexer": "ipython3",
   "version": "3.7.11"
  }
 },
 "nbformat": 4,
 "nbformat_minor": 5
}
