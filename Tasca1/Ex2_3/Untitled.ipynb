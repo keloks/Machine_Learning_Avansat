{
 "cells": [
  {
   "cell_type": "markdown",
   "id": "cfb8c989",
   "metadata": {},
   "source": [
    "### - Exercici 2\n",
    "\n",
    "Agafa un text en anglès que vulguis, i calcula'n la freqüència de les paraules"
   ]
  },
  {
   "cell_type": "code",
   "execution_count": 1,
   "id": "8cf2d6e8",
   "metadata": {},
   "outputs": [
    {
     "name": "stderr",
     "output_type": "stream",
     "text": [
      "[nltk_data] Downloading package punkt to\n",
      "[nltk_data]     C:\\Users\\keloks\\AppData\\Roaming\\nltk_data...\n",
      "[nltk_data]   Package punkt is already up-to-date!\n",
      "[nltk_data] Downloading package stopwords to\n",
      "[nltk_data]     C:\\Users\\keloks\\AppData\\Roaming\\nltk_data...\n",
      "[nltk_data]   Package stopwords is already up-to-date!\n"
     ]
    },
    {
     "data": {
      "text/plain": [
       "True"
      ]
     },
     "execution_count": 1,
     "metadata": {},
     "output_type": "execute_result"
    }
   ],
   "source": [
    "import nltk as nltk\n",
    "import warnings\n",
    "warnings.filterwarnings('ignore')\n",
    "nltk.download('punkt')\n",
    "nltk.download('stopwords')"
   ]
  },
  {
   "cell_type": "code",
   "execution_count": 2,
   "id": "0f26d9ba",
   "metadata": {},
   "outputs": [],
   "source": [
    "#open and read the file into a huge string\n",
    "f = open('avatar_quotes.txt', 'r')\n",
    "megaString = f.read()"
   ]
  },
  {
   "cell_type": "code",
   "execution_count": 3,
   "id": "c7596675",
   "metadata": {},
   "outputs": [
    {
     "data": {
      "text/plain": [
       "['2',\n",
       " '.',\n",
       " '“',\n",
       " 'Perfection',\n",
       " 'and',\n",
       " 'power',\n",
       " 'are',\n",
       " 'overrated',\n",
       " '.',\n",
       " 'I',\n",
       " 'think',\n",
       " 'you',\n",
       " 'are',\n",
       " 'very',\n",
       " 'wise',\n",
       " 'to',\n",
       " 'choose',\n",
       " 'happiness',\n",
       " 'and',\n",
       " 'love.',\n",
       " '”',\n",
       " '-',\n",
       " 'Iroh',\n",
       " ',',\n",
       " \"'Avatar\",\n",
       " ':',\n",
       " 'The',\n",
       " 'Last',\n",
       " 'Airbender',\n",
       " \"'\",\n",
       " '.',\n",
       " '5',\n",
       " '.',\n",
       " '“',\n",
       " 'Pride',\n",
       " 'is',\n",
       " 'not',\n",
       " 'the',\n",
       " 'opposite',\n",
       " 'of',\n",
       " 'shame',\n",
       " ',',\n",
       " 'but',\n",
       " 'its',\n",
       " 'source',\n",
       " '.',\n",
       " 'True',\n",
       " 'humility',\n",
       " 'is',\n",
       " 'the',\n",
       " 'only',\n",
       " 'antidote',\n",
       " 'to',\n",
       " 'shame.',\n",
       " '”',\n",
       " '-',\n",
       " 'Iroh',\n",
       " ',',\n",
       " \"'Avatar\",\n",
       " ':',\n",
       " 'The',\n",
       " 'Last',\n",
       " 'Airbender',\n",
       " \"'\",\n",
       " '.',\n",
       " '7',\n",
       " '.',\n",
       " '“',\n",
       " 'Failure',\n",
       " 'is',\n",
       " 'only',\n",
       " 'the',\n",
       " 'opportunity',\n",
       " 'to',\n",
       " 'begin',\n",
       " 'again',\n",
       " ',',\n",
       " 'only',\n",
       " 'this',\n",
       " 'time',\n",
       " ',',\n",
       " 'more',\n",
       " 'wisely.',\n",
       " '”',\n",
       " '-',\n",
       " 'Iroh',\n",
       " ',',\n",
       " \"'Avatar\",\n",
       " ':',\n",
       " 'The',\n",
       " 'Last',\n",
       " 'Airbender',\n",
       " \"'\",\n",
       " '.',\n",
       " '8',\n",
       " '.',\n",
       " '“',\n",
       " 'Life',\n",
       " 'happens',\n",
       " 'wherever',\n",
       " 'you',\n",
       " 'are',\n",
       " ',',\n",
       " 'whether',\n",
       " 'you',\n",
       " 'make',\n",
       " 'it',\n",
       " 'or',\n",
       " 'not.',\n",
       " '”',\n",
       " '-',\n",
       " 'Iroh',\n",
       " ',',\n",
       " \"'Avatar\",\n",
       " ':',\n",
       " 'The',\n",
       " 'Last',\n",
       " 'Airbender',\n",
       " \"'\",\n",
       " '.',\n",
       " '9',\n",
       " '.',\n",
       " '“',\n",
       " 'It',\n",
       " 'is',\n",
       " 'time',\n",
       " 'for',\n",
       " 'you',\n",
       " 'to',\n",
       " 'look',\n",
       " 'inward',\n",
       " ',',\n",
       " 'and',\n",
       " 'start',\n",
       " 'asking',\n",
       " 'yourself',\n",
       " 'the',\n",
       " 'big',\n",
       " 'questions.',\n",
       " '”',\n",
       " '-',\n",
       " 'Iroh',\n",
       " ',',\n",
       " \"'Avatar\",\n",
       " ':',\n",
       " 'The',\n",
       " 'Last',\n",
       " 'Airbender',\n",
       " \"'\",\n",
       " '.',\n",
       " '10',\n",
       " '.',\n",
       " '“',\n",
       " 'While',\n",
       " 'it',\n",
       " 'is',\n",
       " 'always',\n",
       " 'best',\n",
       " 'to',\n",
       " 'believe',\n",
       " 'in',\n",
       " 'oneself',\n",
       " ',',\n",
       " 'a',\n",
       " 'little',\n",
       " 'help',\n",
       " 'from',\n",
       " 'others',\n",
       " 'can',\n",
       " 'be',\n",
       " 'a',\n",
       " 'great',\n",
       " 'blessing.',\n",
       " '”',\n",
       " '-',\n",
       " 'Iroh',\n",
       " ',',\n",
       " \"'Avatar\",\n",
       " ':',\n",
       " 'The',\n",
       " 'Last',\n",
       " 'Airbender',\n",
       " \"'\",\n",
       " '.']"
      ]
     },
     "execution_count": 3,
     "metadata": {},
     "output_type": "execute_result"
    }
   ],
   "source": [
    "tokenizedWords = nltk.tokenize.word_tokenize(megaString)\n",
    "tokenizedWords"
   ]
  },
  {
   "cell_type": "code",
   "execution_count": 4,
   "id": "ee87d01b",
   "metadata": {},
   "outputs": [
    {
     "name": "stdout",
     "output_type": "stream",
     "text": [
      "87\n"
     ]
    }
   ],
   "source": [
    "freqDist = dict(nltk.probability.FreqDist(tokenizedWords))\n",
    "print(len(freqDist))"
   ]
  },
  {
   "cell_type": "markdown",
   "id": "f31f8270",
   "metadata": {},
   "source": [
    "We have a total of 643 diferent words, so the histogram will look messy and overcrowded."
   ]
  },
  {
   "cell_type": "code",
   "execution_count": 5,
   "id": "a1ccd318",
   "metadata": {},
   "outputs": [
    {
     "data": {
      "text/plain": [
       "<BarContainer object of 87 artists>"
      ]
     },
     "execution_count": 5,
     "metadata": {},
     "output_type": "execute_result"
    },
    {
     "data": {
      "image/png": "[encoded data removed]",
      "text/plain": [
       "<Figure size 432x288 with 1 Axes>"
      ]
     },
     "metadata": {
      "needs_background": "light"
     },
     "output_type": "display_data"
    }
   ],
   "source": [
    "import matplotlib.pyplot as plt\n",
    "\n",
    "plt.bar(freqDist.keys(), freqDist.values())"
   ]
  },
  {
   "cell_type": "markdown",
   "id": "24e4b6f7",
   "metadata": {},
   "source": [
    "### Nivell 2\n",
    "- Exercici 1\n",
    "\n",
    "Treu les stopwords i realitza stemming al teu conjunt de dades."
   ]
  },
  {
   "cell_type": "code",
   "execution_count": 6,
   "id": "83878405",
   "metadata": {},
   "outputs": [
    {
     "name": "stdout",
     "output_type": "stream",
     "text": [
      "{'all', 'haven', 'own', 'weren', 'with', \"that'll\", 'should', 'their', \"you'd\", 'very', \"aren't\", \"you're\", 'shouldn', 'during', 'my', 'under', 'an', 'when', 'he', 'these', \"don't\", \"should've\", 'because', 'only', 'doesn', \"haven't\", 'the', 'ain', 'having', 'ma', 'such', 'out', \"it's\", 'they', 'other', 'above', 'she', 'again', 'than', 'doing', 'few', 'our', 'so', \"shouldn't\", 'me', \"weren't\", \"hadn't\", 'you', 'them', 'over', 'any', 'before', 'has', 'how', 'o', 'mustn', 'against', 'to', \"you'll\", 'between', 'now', \"shan't\", 'wasn', 'was', 'off', 'each', 't', 'both', 'won', 'himself', 'it', 'your', 'too', 're', 'not', 'down', \"hasn't\", 'same', 'do', 'about', 'as', 'what', 'while', 'once', 'did', 'until', 'theirs', 'of', 'are', 'in', 'isn', 'itself', 'yourself', 'just', 'up', 'yourselves', 'don', 'from', \"she's\", 'where', \"mustn't\", 'or', 'those', 'is', 'will', 'hasn', 'at', 'didn', \"didn't\", 'this', 'yours', 'its', \"couldn't\", \"mightn't\", 'some', 'which', 's', 'y', \"wasn't\", 'for', 'ourselves', 'that', 'why', 'themselves', 'have', 'herself', 'shan', 'can', 'needn', 'whom', 'but', 'his', \"needn't\", 'then', 'd', 'be', 'been', 'by', 'myself', 'into', 'and', 'no', \"you've\", 'nor', 'does', 'mightn', 'further', 'm', 'hadn', 'am', 'more', 'hers', 'here', 'there', 'most', 'below', 'were', 'wouldn', 've', 'who', 'we', 'll', 'aren', 'after', \"isn't\", 'being', 'him', \"won't\", 'ours', 'couldn', 'her', 'if', 'i', 'a', 'through', 'on', \"doesn't\", 'had', \"wouldn't\"}\n"
     ]
    }
   ],
   "source": [
    "stop_words = set(nltk.corpus.stopwords.words('english'))\n",
    "print(stop_words)"
   ]
  },
  {
   "cell_type": "code",
   "execution_count": 26,
   "id": "149fe121",
   "metadata": {},
   "outputs": [
    {
     "data": {
      "text/plain": [
       "{'!',\n",
       " \"'Avatar\",\n",
       " '(',\n",
       " ')',\n",
       " ',',\n",
       " '-',\n",
       " '.',\n",
       " '1',\n",
       " '10',\n",
       " '2',\n",
       " '3',\n",
       " '4',\n",
       " '5',\n",
       " '6',\n",
       " '7',\n",
       " '8',\n",
       " '9',\n",
       " ':',\n",
       " '?',\n",
       " 'Airbender',\n",
       " 'Iroh',\n",
       " 'Last',\n",
       " 'The',\n",
       " 'a',\n",
       " 'about',\n",
       " 'above',\n",
       " 'after',\n",
       " 'again',\n",
       " 'against',\n",
       " 'ain',\n",
       " 'all',\n",
       " 'am',\n",
       " 'an',\n",
       " 'and',\n",
       " 'any',\n",
       " 'are',\n",
       " 'aren',\n",
       " \"aren't\",\n",
       " 'as',\n",
       " 'at',\n",
       " 'be',\n",
       " 'because',\n",
       " 'been',\n",
       " 'before',\n",
       " 'being',\n",
       " 'below',\n",
       " 'between',\n",
       " 'both',\n",
       " 'but',\n",
       " 'by',\n",
       " 'can',\n",
       " 'couldn',\n",
       " \"couldn't\",\n",
       " 'd',\n",
       " 'did',\n",
       " 'didn',\n",
       " \"didn't\",\n",
       " 'do',\n",
       " 'does',\n",
       " 'doesn',\n",
       " \"doesn't\",\n",
       " 'doing',\n",
       " 'don',\n",
       " \"don't\",\n",
       " 'down',\n",
       " 'during',\n",
       " 'each',\n",
       " 'few',\n",
       " 'for',\n",
       " 'from',\n",
       " 'further',\n",
       " 'had',\n",
       " 'hadn',\n",
       " \"hadn't\",\n",
       " 'has',\n",
       " 'hasn',\n",
       " \"hasn't\",\n",
       " 'have',\n",
       " 'haven',\n",
       " \"haven't\",\n",
       " 'having',\n",
       " 'he',\n",
       " 'her',\n",
       " 'here',\n",
       " 'hers',\n",
       " 'herself',\n",
       " 'him',\n",
       " 'himself',\n",
       " 'his',\n",
       " 'how',\n",
       " 'i',\n",
       " 'if',\n",
       " 'in',\n",
       " 'into',\n",
       " 'is',\n",
       " 'isn',\n",
       " \"isn't\",\n",
       " 'it',\n",
       " \"it's\",\n",
       " 'its',\n",
       " 'itself',\n",
       " 'just',\n",
       " 'll',\n",
       " 'm',\n",
       " 'ma',\n",
       " 'me',\n",
       " 'mightn',\n",
       " \"mightn't\",\n",
       " 'more',\n",
       " 'most',\n",
       " 'mustn',\n",
       " \"mustn't\",\n",
       " 'my',\n",
       " 'myself',\n",
       " 'needn',\n",
       " \"needn't\",\n",
       " 'no',\n",
       " 'nor',\n",
       " 'not',\n",
       " 'now',\n",
       " 'o',\n",
       " 'of',\n",
       " 'off',\n",
       " 'on',\n",
       " 'once',\n",
       " 'only',\n",
       " 'or',\n",
       " 'other',\n",
       " 'our',\n",
       " 'ours',\n",
       " 'ourselves',\n",
       " 'out',\n",
       " 'over',\n",
       " 'own',\n",
       " 're',\n",
       " 's',\n",
       " 'same',\n",
       " 'shan',\n",
       " \"shan't\",\n",
       " 'she',\n",
       " \"she's\",\n",
       " 'should',\n",
       " \"should've\",\n",
       " 'shouldn',\n",
       " \"shouldn't\",\n",
       " 'so',\n",
       " 'some',\n",
       " 'such',\n",
       " 't',\n",
       " 'than',\n",
       " 'that',\n",
       " \"that'll\",\n",
       " 'the',\n",
       " 'their',\n",
       " 'theirs',\n",
       " 'them',\n",
       " 'themselves',\n",
       " 'then',\n",
       " 'there',\n",
       " 'these',\n",
       " 'they',\n",
       " 'this',\n",
       " 'those',\n",
       " 'through',\n",
       " 'to',\n",
       " 'too',\n",
       " 'under',\n",
       " 'until',\n",
       " 'up',\n",
       " 've',\n",
       " 'very',\n",
       " 'was',\n",
       " 'wasn',\n",
       " \"wasn't\",\n",
       " 'we',\n",
       " 'were',\n",
       " 'weren',\n",
       " \"weren't\",\n",
       " 'what',\n",
       " 'when',\n",
       " 'where',\n",
       " 'which',\n",
       " 'while',\n",
       " 'who',\n",
       " 'whom',\n",
       " 'why',\n",
       " 'will',\n",
       " 'with',\n",
       " 'won',\n",
       " \"won't\",\n",
       " 'wouldn',\n",
       " \"wouldn't\",\n",
       " 'y',\n",
       " 'you',\n",
       " \"you'd\",\n",
       " \"you'll\",\n",
       " \"you're\",\n",
       " \"you've\",\n",
       " 'your',\n",
       " 'yours',\n",
       " 'yourself',\n",
       " 'yourselves'}"
      ]
     },
     "execution_count": 26,
     "metadata": {},
     "output_type": "execute_result"
    }
   ],
   "source": [
    "#add punctuation signs\n",
    "punctuation = {'.', ',', ':', '(', ')', '-', '!', '?'}\n",
    "commonNames = {'Iroh', \"'Avatar\", 'Last', 'Airbender', 'the', 'The'}\n",
    "stringNumbers = set([str(n) for n in range(1,11)])\n",
    "wordsToRemove = stop_words.union(punctuation).union(commonNames).union(stringNumbers)\n",
    "wordsToRemove"
   ]
  },
  {
   "cell_type": "code",
   "execution_count": 27,
   "id": "18645bf8",
   "metadata": {},
   "outputs": [
    {
     "name": "stdout",
     "output_type": "stream",
     "text": [
      "48\n"
     ]
    }
   ],
   "source": [
    "shorterWords = []\n",
    "for w in tokenizedWords:\n",
    "    if w not in wordsToRemove:\n",
    "        shorterWords.append(w)\n",
    "        \n",
    "freqDist = dict(nltk.probability.FreqDist(shorterWords))\n",
    "print(len(freqDist))"
   ]
  },
  {
   "cell_type": "code",
   "execution_count": 28,
   "id": "bc03708f",
   "metadata": {},
   "outputs": [
    {
     "name": "stdout",
     "output_type": "stream",
     "text": [
      "48\n"
     ]
    }
   ],
   "source": [
    "ps = nltk.stem.PorterStemmer()\n",
    "\n",
    "stemmedWords = []\n",
    "\n",
    "for w in shorterWords:\n",
    "    stemmedWords.append(ps.stem(w))\n",
    "\n",
    "freqDist2 = dict(nltk.probability.FreqDist(stemmedWords))\n",
    "print(len(freqDist2))"
   ]
  },
  {
   "cell_type": "code",
   "execution_count": 29,
   "id": "19f5d8ab",
   "metadata": {},
   "outputs": [
    {
     "data": {
      "text/plain": [
       "{'“': 6,\n",
       " 'Perfection': 1,\n",
       " 'power': 1,\n",
       " 'overrated': 1,\n",
       " 'I': 1,\n",
       " 'think': 1,\n",
       " 'wise': 1,\n",
       " 'choose': 1,\n",
       " 'happiness': 1,\n",
       " 'love.': 1,\n",
       " '”': 6,\n",
       " \"'\": 6,\n",
       " 'Pride': 1,\n",
       " 'opposite': 1,\n",
       " 'shame': 1,\n",
       " 'source': 1,\n",
       " 'True': 1,\n",
       " 'humility': 1,\n",
       " 'antidote': 1,\n",
       " 'shame.': 1,\n",
       " 'Failure': 1,\n",
       " 'opportunity': 1,\n",
       " 'begin': 1,\n",
       " 'time': 2,\n",
       " 'wisely.': 1,\n",
       " 'Life': 1,\n",
       " 'happens': 1,\n",
       " 'wherever': 1,\n",
       " 'whether': 1,\n",
       " 'make': 1,\n",
       " 'not.': 1,\n",
       " 'It': 1,\n",
       " 'look': 1,\n",
       " 'inward': 1,\n",
       " 'start': 1,\n",
       " 'asking': 1,\n",
       " 'big': 1,\n",
       " 'questions.': 1,\n",
       " 'While': 1,\n",
       " 'always': 1,\n",
       " 'best': 1,\n",
       " 'believe': 1,\n",
       " 'oneself': 1,\n",
       " 'little': 1,\n",
       " 'help': 1,\n",
       " 'others': 1,\n",
       " 'great': 1,\n",
       " 'blessing.': 1}"
      ]
     },
     "execution_count": 29,
     "metadata": {},
     "output_type": "execute_result"
    }
   ],
   "source": [
    "freqDist"
   ]
  },
  {
   "cell_type": "code",
   "execution_count": 30,
   "id": "c332b785",
   "metadata": {},
   "outputs": [
    {
     "data": {
      "image/png": "[encoded data removed]",
      "text/plain": [
       "<Figure size 864x576 with 1 Axes>"
      ]
     },
     "metadata": {
      "needs_background": "light"
     },
     "output_type": "display_data"
    }
   ],
   "source": [
    "fig, ax = plt.subplots(figsize = (12,8))\n",
    "\n",
    "ax.bar(freqDist.keys(), freqDist.values())\n",
    "ax.set_xticklabels(list(freqDist.keys()), rotation = 90)\n",
    "ax.grid(axis = 'y')"
   ]
  }
 ],
 "metadata": {
  "anaconda-cloud": {},
  "kernelspec": {
   "display_name": "Python 3 (ipykernel)",
   "language": "python",
   "name": "python3"
  },
  "language_info": {
   "codemirror_mode": {
    "name": "ipython",
    "version": 3
   },
   "file_extension": ".py",
   "mimetype": "text/x-python",
   "name": "python",
   "nbconvert_exporter": "python",
   "pygments_lexer": "ipython3",
   "version": "3.7.11"
  }
 },
 "nbformat": 4,
 "nbformat_minor": 5
}
